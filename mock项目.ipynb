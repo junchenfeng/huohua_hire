{
 "cells": [
  {
   "cell_type": "markdown",
   "metadata": {},
   "source": [
    "# 项目简介\n",
    "\n",
    "## 业务背景\n",
    "\n",
    "下图是火花课堂的屏幕截图。在上课过程中，如果老师发现学生卡住了（或者学生告诉老师自己不能看到老师或无法操作课件），就会向技术支持提交一个**网络状况**工单。\n",
    "\n",
    "![Alt text](screen_shot.png)\n",
    "\n",
    "\n",
    "技术支持在看到这个工单后，会通过监课界面以学生视角观看课堂；如果技术支持认为*当时*学生课堂正常，就会关闭工单，并将关闭原因标注为“轻微抖动不影响上课”；否则，技术支持就会打电话给家长协助解决网络问题，并将关闭原因标注为“网络卡顿”。\n",
    "\n",
    "前端开发告诉你，除了网络状况外，设备型号和性能也会导致操作卡顿；例如早期iPad或者低端Android运行火花课堂时也会卡顿。同时，他们也告诉你技术支持的关闭原因填写有噪音：用户当时是否卡，完全取决于技术支持监课的时机。\n",
    "\n",
    "现在产研试图降低网络工单率。产品经理提出的一个建议是，**如果在工单提交时可以预测网络工单的关闭原因**，那么就可以在老师提交工单时在后台直接关闭预测为“轻微抖动不影响上课”的工单，而仅放行“网络卡顿”的工单。\n",
    "\n",
    "你的同事也为你提取了一些正常课堂的数据，用作训练使用。\n",
    "\n",
    "\n",
    "## 数据字典\n",
    "\n",
    "type是你的Y数据：\n",
    "- 0表示正常课堂\n",
    "- 1表示产生网络工单且关闭原因为“轻微抖动不影响上课”\n",
    "- 2表示产生网路工单且关闭原因为“网络卡顿”\n",
    "\n",
    "\n",
    "火花课堂监控两张网络的状态。一张网络是声网，火花用它来传输音频和视频；另一张网络是game server，火花用它来传输师生间课件控制的数据。\n",
    "\n",
    "声网的监控数据包括\n",
    "\n",
    "- duration：通话时长，单位为秒，累计值；重置链接后清零。\n",
    "- txAudioKBitrate:音频发送码率 (Kbps)，瞬时值\n",
    "- rxAudioKBitrate:音频接收码率 (Kbps)，瞬时值\n",
    "- txVideoKBitrate:音频发送码率 (Kbps)，瞬时值\n",
    "- rxVideoKBitrate:音频接收码率 (Kbps)，瞬时值\n",
    "- cpuTotalUsage:当前系统的 CPU 使用率 (%)\n",
    "- cpuAppUsage:当前 App 的 CPU 使用率 (%)\n",
    "- userCount: 当前频道内的用户人数\n",
    "- sentFrameRate: 不重要\n",
    "- sentBitrate: 不重要\n",
    "\n",
    "客户端的game server的监控数据包括\n",
    "\n",
    "- cpu: 上报数列的最高值\n",
    "- lag: 客户端与game server的ping值\n",
    "- fps: 客户端的针率\n",
    "- memory_free：客户端未使用\n",
    "- memory_app_used\n",
    "- memory_inactive:\n",
    "\n",
    "你的同事已经帮你把工单提交前40次监控和工单提交后40次监控的数据整理好了。X_lead_Y表示性能变量X在工单提交前Y次监控的数据；X_lag_Y表示性能变量X在工单提交后Y次监控的数据。X_lead_1和X_lag_1是最接近工单提交的数据。\n",
    "\n",
    "此外，当性能数据在日志服务器上缺失时，统一填入-999"
   ]
  },
  {
   "cell_type": "markdown",
   "metadata": {},
   "source": [
    "# 任务要求\n",
    "\n",
    "## 建模\n",
    "\n",
    "结合上述业务场景和产品需求，利用data.csv的数据，构建一个预测工单关闭原因的模型，并向产品经理和前端研发提交一个使用这个模型的产品方案。\n",
    "\n",
    "## 汇报\n",
    "\n",
    "在这个notebook中撰写你的报告（你也可以使用Rmarkdown）。并将你的代码也放在这个notebook中\n",
    "\n",
    "然后向[这个Github项目](https://github.com/junchenfeng/huohua_hire)提交一个Pull Request\n",
    "\n",
    "## 考核方面\n",
    "\n",
    "我们考察\n",
    "\n",
    "- 使用python生态进行数据建模的能力\n",
    "- 将数据模型转化为业务生产力的能力\n",
    "- 代码风格\n",
    "\n",
    "祝你成功！"
   ]
  },
  {
   "cell_type": "code",
   "execution_count": 1,
   "metadata": {},
   "outputs": [
    {
     "name": "stdout",
     "output_type": "stream",
     "text": [
      "(5000, 1281)\n"
     ]
    },
    {
     "data": {
      "text/html": [
       "<div>\n",
       "<style scoped>\n",
       "    .dataframe tbody tr th:only-of-type {\n",
       "        vertical-align: middle;\n",
       "    }\n",
       "\n",
       "    .dataframe tbody tr th {\n",
       "        vertical-align: top;\n",
       "    }\n",
       "\n",
       "    .dataframe thead th {\n",
       "        text-align: right;\n",
       "    }\n",
       "</style>\n",
       "<table border=\"1\" class=\"dataframe\">\n",
       "  <thead>\n",
       "    <tr style=\"text-align: right;\">\n",
       "      <th></th>\n",
       "      <th>type</th>\n",
       "      <th>txAudioKBitrate_lead_1</th>\n",
       "      <th>txAudioKBitrate_lead_2</th>\n",
       "      <th>txAudioKBitrate_lead_3</th>\n",
       "      <th>txAudioKBitrate_lead_4</th>\n",
       "      <th>txAudioKBitrate_lead_5</th>\n",
       "      <th>txAudioKBitrate_lead_6</th>\n",
       "      <th>txAudioKBitrate_lead_7</th>\n",
       "      <th>txAudioKBitrate_lead_8</th>\n",
       "      <th>txAudioKBitrate_lead_9</th>\n",
       "      <th>...</th>\n",
       "      <th>memory_inactive_lag_31</th>\n",
       "      <th>memory_inactive_lag_32</th>\n",
       "      <th>memory_inactive_lag_33</th>\n",
       "      <th>memory_inactive_lag_34</th>\n",
       "      <th>memory_inactive_lag_35</th>\n",
       "      <th>memory_inactive_lag_36</th>\n",
       "      <th>memory_inactive_lag_37</th>\n",
       "      <th>memory_inactive_lag_38</th>\n",
       "      <th>memory_inactive_lag_39</th>\n",
       "      <th>memory_inactive_lag_40</th>\n",
       "    </tr>\n",
       "  </thead>\n",
       "  <tbody>\n",
       "    <tr>\n",
       "      <th>0</th>\n",
       "      <td>0</td>\n",
       "      <td>54</td>\n",
       "      <td>53.0</td>\n",
       "      <td>53.0</td>\n",
       "      <td>54.0</td>\n",
       "      <td>53.0</td>\n",
       "      <td>53.0</td>\n",
       "      <td>53.0</td>\n",
       "      <td>52.0</td>\n",
       "      <td>54.0</td>\n",
       "      <td>...</td>\n",
       "      <td>554680320.0</td>\n",
       "      <td>556302336.0</td>\n",
       "      <td>554041344.0</td>\n",
       "      <td>556220416.0</td>\n",
       "      <td>560152576.0</td>\n",
       "      <td>561233920.0</td>\n",
       "      <td>560857088.0</td>\n",
       "      <td>554582016.0</td>\n",
       "      <td>554614784.0</td>\n",
       "      <td>554598400.0</td>\n",
       "    </tr>\n",
       "    <tr>\n",
       "      <th>1</th>\n",
       "      <td>0</td>\n",
       "      <td>54</td>\n",
       "      <td>53.0</td>\n",
       "      <td>53.0</td>\n",
       "      <td>53.0</td>\n",
       "      <td>54.0</td>\n",
       "      <td>53.0</td>\n",
       "      <td>53.0</td>\n",
       "      <td>53.0</td>\n",
       "      <td>53.0</td>\n",
       "      <td>...</td>\n",
       "      <td>523796480.0</td>\n",
       "      <td>525516800.0</td>\n",
       "      <td>527368192.0</td>\n",
       "      <td>527826944.0</td>\n",
       "      <td>527974400.0</td>\n",
       "      <td>527728640.0</td>\n",
       "      <td>529203200.0</td>\n",
       "      <td>531628032.0</td>\n",
       "      <td>530579456.0</td>\n",
       "      <td>527695872.0</td>\n",
       "    </tr>\n",
       "    <tr>\n",
       "      <th>2</th>\n",
       "      <td>0</td>\n",
       "      <td>53</td>\n",
       "      <td>53.0</td>\n",
       "      <td>53.0</td>\n",
       "      <td>53.0</td>\n",
       "      <td>52.0</td>\n",
       "      <td>53.0</td>\n",
       "      <td>53.0</td>\n",
       "      <td>53.0</td>\n",
       "      <td>53.0</td>\n",
       "      <td>...</td>\n",
       "      <td>655065088.0</td>\n",
       "      <td>654704640.0</td>\n",
       "      <td>653983744.0</td>\n",
       "      <td>653934592.0</td>\n",
       "      <td>653082624.0</td>\n",
       "      <td>656326656.0</td>\n",
       "      <td>654409728.0</td>\n",
       "      <td>655081472.0</td>\n",
       "      <td>655851520.0</td>\n",
       "      <td>654884864.0</td>\n",
       "    </tr>\n",
       "    <tr>\n",
       "      <th>3</th>\n",
       "      <td>0</td>\n",
       "      <td>53</td>\n",
       "      <td>53.0</td>\n",
       "      <td>52.0</td>\n",
       "      <td>54.0</td>\n",
       "      <td>54.0</td>\n",
       "      <td>53.0</td>\n",
       "      <td>52.0</td>\n",
       "      <td>54.0</td>\n",
       "      <td>52.0</td>\n",
       "      <td>...</td>\n",
       "      <td>-999.0</td>\n",
       "      <td>550387712.0</td>\n",
       "      <td>-999.0</td>\n",
       "      <td>551092224.0</td>\n",
       "      <td>-999.0</td>\n",
       "      <td>551010304.0</td>\n",
       "      <td>-999.0</td>\n",
       "      <td>549273600.0</td>\n",
       "      <td>-999.0</td>\n",
       "      <td>549421056.0</td>\n",
       "    </tr>\n",
       "    <tr>\n",
       "      <th>4</th>\n",
       "      <td>0</td>\n",
       "      <td>53</td>\n",
       "      <td>12.0</td>\n",
       "      <td>53.0</td>\n",
       "      <td>54.0</td>\n",
       "      <td>51.0</td>\n",
       "      <td>43.0</td>\n",
       "      <td>42.0</td>\n",
       "      <td>47.0</td>\n",
       "      <td>53.0</td>\n",
       "      <td>...</td>\n",
       "      <td>585465856.0</td>\n",
       "      <td>583483392.0</td>\n",
       "      <td>582746112.0</td>\n",
       "      <td>585875456.0</td>\n",
       "      <td>585482240.0</td>\n",
       "      <td>585564160.0</td>\n",
       "      <td>586432512.0</td>\n",
       "      <td>586563584.0</td>\n",
       "      <td>586448896.0</td>\n",
       "      <td>586891264.0</td>\n",
       "    </tr>\n",
       "  </tbody>\n",
       "</table>\n",
       "<p>5 rows × 1281 columns</p>\n",
       "</div>"
      ],
      "text/plain": [
       "   type  txAudioKBitrate_lead_1  txAudioKBitrate_lead_2  \\\n",
       "0     0                      54                    53.0   \n",
       "1     0                      54                    53.0   \n",
       "2     0                      53                    53.0   \n",
       "3     0                      53                    53.0   \n",
       "4     0                      53                    12.0   \n",
       "\n",
       "   txAudioKBitrate_lead_3  txAudioKBitrate_lead_4  txAudioKBitrate_lead_5  \\\n",
       "0                    53.0                    54.0                    53.0   \n",
       "1                    53.0                    53.0                    54.0   \n",
       "2                    53.0                    53.0                    52.0   \n",
       "3                    52.0                    54.0                    54.0   \n",
       "4                    53.0                    54.0                    51.0   \n",
       "\n",
       "   txAudioKBitrate_lead_6  txAudioKBitrate_lead_7  txAudioKBitrate_lead_8  \\\n",
       "0                    53.0                    53.0                    52.0   \n",
       "1                    53.0                    53.0                    53.0   \n",
       "2                    53.0                    53.0                    53.0   \n",
       "3                    53.0                    52.0                    54.0   \n",
       "4                    43.0                    42.0                    47.0   \n",
       "\n",
       "   txAudioKBitrate_lead_9  ...  memory_inactive_lag_31  \\\n",
       "0                    54.0  ...             554680320.0   \n",
       "1                    53.0  ...             523796480.0   \n",
       "2                    53.0  ...             655065088.0   \n",
       "3                    52.0  ...                  -999.0   \n",
       "4                    53.0  ...             585465856.0   \n",
       "\n",
       "   memory_inactive_lag_32  memory_inactive_lag_33  memory_inactive_lag_34  \\\n",
       "0             556302336.0             554041344.0             556220416.0   \n",
       "1             525516800.0             527368192.0             527826944.0   \n",
       "2             654704640.0             653983744.0             653934592.0   \n",
       "3             550387712.0                  -999.0             551092224.0   \n",
       "4             583483392.0             582746112.0             585875456.0   \n",
       "\n",
       "   memory_inactive_lag_35  memory_inactive_lag_36  memory_inactive_lag_37  \\\n",
       "0             560152576.0             561233920.0             560857088.0   \n",
       "1             527974400.0             527728640.0             529203200.0   \n",
       "2             653082624.0             656326656.0             654409728.0   \n",
       "3                  -999.0             551010304.0                  -999.0   \n",
       "4             585482240.0             585564160.0             586432512.0   \n",
       "\n",
       "   memory_inactive_lag_38  memory_inactive_lag_39  memory_inactive_lag_40  \n",
       "0             554582016.0             554614784.0             554598400.0  \n",
       "1             531628032.0             530579456.0             527695872.0  \n",
       "2             655081472.0             655851520.0             654884864.0  \n",
       "3             549273600.0                  -999.0             549421056.0  \n",
       "4             586563584.0             586448896.0             586891264.0  \n",
       "\n",
       "[5 rows x 1281 columns]"
      ]
     },
     "execution_count": 1,
     "metadata": {},
     "output_type": "execute_result"
    }
   ],
   "source": [
    "#读取文件\n",
    "import pandas as pd\n",
    "import matplotlib.pyplot as plt\n",
    "import numpy as np\n",
    "%matplotlib inline\n",
    "data = pd.read_csv(\"data.csv\")\n",
    "print(data.shape)\n",
    "data.head()"
   ]
  },
  {
   "cell_type": "code",
   "execution_count": 2,
   "metadata": {},
   "outputs": [
    {
     "data": {
      "text/html": [
       "<div>\n",
       "<style scoped>\n",
       "    .dataframe tbody tr th:only-of-type {\n",
       "        vertical-align: middle;\n",
       "    }\n",
       "\n",
       "    .dataframe tbody tr th {\n",
       "        vertical-align: top;\n",
       "    }\n",
       "\n",
       "    .dataframe thead th {\n",
       "        text-align: right;\n",
       "    }\n",
       "</style>\n",
       "<table border=\"1\" class=\"dataframe\">\n",
       "  <thead>\n",
       "    <tr style=\"text-align: right;\">\n",
       "      <th></th>\n",
       "      <th>type</th>\n",
       "      <th>txAudioKBitrate_lead_1</th>\n",
       "      <th>txAudioKBitrate_lead_2</th>\n",
       "      <th>txAudioKBitrate_lead_3</th>\n",
       "      <th>txAudioKBitrate_lead_4</th>\n",
       "      <th>txAudioKBitrate_lead_5</th>\n",
       "      <th>txAudioKBitrate_lead_6</th>\n",
       "      <th>txAudioKBitrate_lead_7</th>\n",
       "      <th>txAudioKBitrate_lead_8</th>\n",
       "      <th>txAudioKBitrate_lead_9</th>\n",
       "      <th>...</th>\n",
       "      <th>memory_inactive_lag_31</th>\n",
       "      <th>memory_inactive_lag_32</th>\n",
       "      <th>memory_inactive_lag_33</th>\n",
       "      <th>memory_inactive_lag_34</th>\n",
       "      <th>memory_inactive_lag_35</th>\n",
       "      <th>memory_inactive_lag_36</th>\n",
       "      <th>memory_inactive_lag_37</th>\n",
       "      <th>memory_inactive_lag_38</th>\n",
       "      <th>memory_inactive_lag_39</th>\n",
       "      <th>memory_inactive_lag_40</th>\n",
       "    </tr>\n",
       "  </thead>\n",
       "  <tbody>\n",
       "    <tr>\n",
       "      <th>count</th>\n",
       "      <td>5000.00000</td>\n",
       "      <td>5000.000000</td>\n",
       "      <td>4998.000000</td>\n",
       "      <td>4998.000000</td>\n",
       "      <td>4998.000000</td>\n",
       "      <td>4997.000000</td>\n",
       "      <td>4997.000000</td>\n",
       "      <td>4997.000000</td>\n",
       "      <td>4994.000000</td>\n",
       "      <td>4992.000000</td>\n",
       "      <td>...</td>\n",
       "      <td>4.998000e+03</td>\n",
       "      <td>4.998000e+03</td>\n",
       "      <td>4.998000e+03</td>\n",
       "      <td>4.998000e+03</td>\n",
       "      <td>4.998000e+03</td>\n",
       "      <td>4.998000e+03</td>\n",
       "      <td>4.998000e+03</td>\n",
       "      <td>4.998000e+03</td>\n",
       "      <td>4.998000e+03</td>\n",
       "      <td>4.998000e+03</td>\n",
       "    </tr>\n",
       "    <tr>\n",
       "      <th>mean</th>\n",
       "      <td>0.34480</td>\n",
       "      <td>48.327200</td>\n",
       "      <td>48.554222</td>\n",
       "      <td>48.675270</td>\n",
       "      <td>48.987595</td>\n",
       "      <td>49.178507</td>\n",
       "      <td>49.400240</td>\n",
       "      <td>49.423054</td>\n",
       "      <td>49.303564</td>\n",
       "      <td>49.288061</td>\n",
       "      <td>...</td>\n",
       "      <td>5.016824e+08</td>\n",
       "      <td>5.017613e+08</td>\n",
       "      <td>5.016951e+08</td>\n",
       "      <td>5.018133e+08</td>\n",
       "      <td>5.016922e+08</td>\n",
       "      <td>5.019673e+08</td>\n",
       "      <td>5.012356e+08</td>\n",
       "      <td>5.020848e+08</td>\n",
       "      <td>5.011551e+08</td>\n",
       "      <td>5.020959e+08</td>\n",
       "    </tr>\n",
       "    <tr>\n",
       "      <th>std</th>\n",
       "      <td>0.70229</td>\n",
       "      <td>37.568168</td>\n",
       "      <td>37.449609</td>\n",
       "      <td>37.332675</td>\n",
       "      <td>37.184188</td>\n",
       "      <td>37.086354</td>\n",
       "      <td>36.977244</td>\n",
       "      <td>36.966075</td>\n",
       "      <td>39.819943</td>\n",
       "      <td>39.810616</td>\n",
       "      <td>...</td>\n",
       "      <td>1.080941e+08</td>\n",
       "      <td>1.078881e+08</td>\n",
       "      <td>1.082330e+08</td>\n",
       "      <td>1.082250e+08</td>\n",
       "      <td>1.082896e+08</td>\n",
       "      <td>1.077850e+08</td>\n",
       "      <td>1.092522e+08</td>\n",
       "      <td>1.074560e+08</td>\n",
       "      <td>1.091399e+08</td>\n",
       "      <td>1.070901e+08</td>\n",
       "    </tr>\n",
       "    <tr>\n",
       "      <th>min</th>\n",
       "      <td>0.00000</td>\n",
       "      <td>-999.000000</td>\n",
       "      <td>-999.000000</td>\n",
       "      <td>-999.000000</td>\n",
       "      <td>-999.000000</td>\n",
       "      <td>-999.000000</td>\n",
       "      <td>-999.000000</td>\n",
       "      <td>-999.000000</td>\n",
       "      <td>-999.000000</td>\n",
       "      <td>-999.000000</td>\n",
       "      <td>...</td>\n",
       "      <td>-9.990000e+02</td>\n",
       "      <td>-9.990000e+02</td>\n",
       "      <td>-9.990000e+02</td>\n",
       "      <td>-9.990000e+02</td>\n",
       "      <td>-9.990000e+02</td>\n",
       "      <td>-9.990000e+02</td>\n",
       "      <td>-9.990000e+02</td>\n",
       "      <td>-9.990000e+02</td>\n",
       "      <td>-9.990000e+02</td>\n",
       "      <td>-9.990000e+02</td>\n",
       "    </tr>\n",
       "    <tr>\n",
       "      <th>25%</th>\n",
       "      <td>0.00000</td>\n",
       "      <td>50.000000</td>\n",
       "      <td>51.000000</td>\n",
       "      <td>51.000000</td>\n",
       "      <td>51.000000</td>\n",
       "      <td>51.000000</td>\n",
       "      <td>52.000000</td>\n",
       "      <td>52.000000</td>\n",
       "      <td>52.000000</td>\n",
       "      <td>52.000000</td>\n",
       "      <td>...</td>\n",
       "      <td>4.322714e+08</td>\n",
       "      <td>4.316815e+08</td>\n",
       "      <td>4.318290e+08</td>\n",
       "      <td>4.319601e+08</td>\n",
       "      <td>4.318863e+08</td>\n",
       "      <td>4.319396e+08</td>\n",
       "      <td>4.326482e+08</td>\n",
       "      <td>4.322181e+08</td>\n",
       "      <td>4.315013e+08</td>\n",
       "      <td>4.327014e+08</td>\n",
       "    </tr>\n",
       "    <tr>\n",
       "      <th>50%</th>\n",
       "      <td>0.00000</td>\n",
       "      <td>53.000000</td>\n",
       "      <td>53.000000</td>\n",
       "      <td>53.000000</td>\n",
       "      <td>53.000000</td>\n",
       "      <td>53.000000</td>\n",
       "      <td>53.000000</td>\n",
       "      <td>53.000000</td>\n",
       "      <td>53.000000</td>\n",
       "      <td>53.000000</td>\n",
       "      <td>...</td>\n",
       "      <td>5.047501e+08</td>\n",
       "      <td>5.045453e+08</td>\n",
       "      <td>5.049958e+08</td>\n",
       "      <td>5.051187e+08</td>\n",
       "      <td>5.041684e+08</td>\n",
       "      <td>5.047665e+08</td>\n",
       "      <td>5.048238e+08</td>\n",
       "      <td>5.047910e+08</td>\n",
       "      <td>5.044060e+08</td>\n",
       "      <td>5.046518e+08</td>\n",
       "    </tr>\n",
       "    <tr>\n",
       "      <th>75%</th>\n",
       "      <td>0.00000</td>\n",
       "      <td>53.000000</td>\n",
       "      <td>53.000000</td>\n",
       "      <td>53.000000</td>\n",
       "      <td>53.000000</td>\n",
       "      <td>53.000000</td>\n",
       "      <td>53.000000</td>\n",
       "      <td>53.000000</td>\n",
       "      <td>53.000000</td>\n",
       "      <td>53.000000</td>\n",
       "      <td>...</td>\n",
       "      <td>5.795676e+08</td>\n",
       "      <td>5.794734e+08</td>\n",
       "      <td>5.795103e+08</td>\n",
       "      <td>5.796086e+08</td>\n",
       "      <td>5.796618e+08</td>\n",
       "      <td>5.794161e+08</td>\n",
       "      <td>5.796086e+08</td>\n",
       "      <td>5.797233e+08</td>\n",
       "      <td>5.798257e+08</td>\n",
       "      <td>5.797069e+08</td>\n",
       "    </tr>\n",
       "    <tr>\n",
       "      <th>max</th>\n",
       "      <td>2.00000</td>\n",
       "      <td>70.000000</td>\n",
       "      <td>70.000000</td>\n",
       "      <td>70.000000</td>\n",
       "      <td>70.000000</td>\n",
       "      <td>70.000000</td>\n",
       "      <td>70.000000</td>\n",
       "      <td>70.000000</td>\n",
       "      <td>71.000000</td>\n",
       "      <td>70.000000</td>\n",
       "      <td>...</td>\n",
       "      <td>9.460122e+08</td>\n",
       "      <td>9.459794e+08</td>\n",
       "      <td>9.465037e+08</td>\n",
       "      <td>9.464873e+08</td>\n",
       "      <td>9.246310e+08</td>\n",
       "      <td>9.247621e+08</td>\n",
       "      <td>9.359852e+08</td>\n",
       "      <td>9.360015e+08</td>\n",
       "      <td>9.353789e+08</td>\n",
       "      <td>9.358377e+08</td>\n",
       "    </tr>\n",
       "  </tbody>\n",
       "</table>\n",
       "<p>8 rows × 1281 columns</p>\n",
       "</div>"
      ],
      "text/plain": [
       "             type  txAudioKBitrate_lead_1  txAudioKBitrate_lead_2  \\\n",
       "count  5000.00000             5000.000000             4998.000000   \n",
       "mean      0.34480               48.327200               48.554222   \n",
       "std       0.70229               37.568168               37.449609   \n",
       "min       0.00000             -999.000000             -999.000000   \n",
       "25%       0.00000               50.000000               51.000000   \n",
       "50%       0.00000               53.000000               53.000000   \n",
       "75%       0.00000               53.000000               53.000000   \n",
       "max       2.00000               70.000000               70.000000   \n",
       "\n",
       "       txAudioKBitrate_lead_3  txAudioKBitrate_lead_4  txAudioKBitrate_lead_5  \\\n",
       "count             4998.000000             4998.000000             4997.000000   \n",
       "mean                48.675270               48.987595               49.178507   \n",
       "std                 37.332675               37.184188               37.086354   \n",
       "min               -999.000000             -999.000000             -999.000000   \n",
       "25%                 51.000000               51.000000               51.000000   \n",
       "50%                 53.000000               53.000000               53.000000   \n",
       "75%                 53.000000               53.000000               53.000000   \n",
       "max                 70.000000               70.000000               70.000000   \n",
       "\n",
       "       txAudioKBitrate_lead_6  txAudioKBitrate_lead_7  txAudioKBitrate_lead_8  \\\n",
       "count             4997.000000             4997.000000             4994.000000   \n",
       "mean                49.400240               49.423054               49.303564   \n",
       "std                 36.977244               36.966075               39.819943   \n",
       "min               -999.000000             -999.000000             -999.000000   \n",
       "25%                 52.000000               52.000000               52.000000   \n",
       "50%                 53.000000               53.000000               53.000000   \n",
       "75%                 53.000000               53.000000               53.000000   \n",
       "max                 70.000000               70.000000               71.000000   \n",
       "\n",
       "       txAudioKBitrate_lead_9  ...  memory_inactive_lag_31  \\\n",
       "count             4992.000000  ...            4.998000e+03   \n",
       "mean                49.288061  ...            5.016824e+08   \n",
       "std                 39.810616  ...            1.080941e+08   \n",
       "min               -999.000000  ...           -9.990000e+02   \n",
       "25%                 52.000000  ...            4.322714e+08   \n",
       "50%                 53.000000  ...            5.047501e+08   \n",
       "75%                 53.000000  ...            5.795676e+08   \n",
       "max                 70.000000  ...            9.460122e+08   \n",
       "\n",
       "       memory_inactive_lag_32  memory_inactive_lag_33  memory_inactive_lag_34  \\\n",
       "count            4.998000e+03            4.998000e+03            4.998000e+03   \n",
       "mean             5.017613e+08            5.016951e+08            5.018133e+08   \n",
       "std              1.078881e+08            1.082330e+08            1.082250e+08   \n",
       "min             -9.990000e+02           -9.990000e+02           -9.990000e+02   \n",
       "25%              4.316815e+08            4.318290e+08            4.319601e+08   \n",
       "50%              5.045453e+08            5.049958e+08            5.051187e+08   \n",
       "75%              5.794734e+08            5.795103e+08            5.796086e+08   \n",
       "max              9.459794e+08            9.465037e+08            9.464873e+08   \n",
       "\n",
       "       memory_inactive_lag_35  memory_inactive_lag_36  memory_inactive_lag_37  \\\n",
       "count            4.998000e+03            4.998000e+03            4.998000e+03   \n",
       "mean             5.016922e+08            5.019673e+08            5.012356e+08   \n",
       "std              1.082896e+08            1.077850e+08            1.092522e+08   \n",
       "min             -9.990000e+02           -9.990000e+02           -9.990000e+02   \n",
       "25%              4.318863e+08            4.319396e+08            4.326482e+08   \n",
       "50%              5.041684e+08            5.047665e+08            5.048238e+08   \n",
       "75%              5.796618e+08            5.794161e+08            5.796086e+08   \n",
       "max              9.246310e+08            9.247621e+08            9.359852e+08   \n",
       "\n",
       "       memory_inactive_lag_38  memory_inactive_lag_39  memory_inactive_lag_40  \n",
       "count            4.998000e+03            4.998000e+03            4.998000e+03  \n",
       "mean             5.020848e+08            5.011551e+08            5.020959e+08  \n",
       "std              1.074560e+08            1.091399e+08            1.070901e+08  \n",
       "min             -9.990000e+02           -9.990000e+02           -9.990000e+02  \n",
       "25%              4.322181e+08            4.315013e+08            4.327014e+08  \n",
       "50%              5.047910e+08            5.044060e+08            5.046518e+08  \n",
       "75%              5.797233e+08            5.798257e+08            5.797069e+08  \n",
       "max              9.360015e+08            9.353789e+08            9.358377e+08  \n",
       "\n",
       "[8 rows x 1281 columns]"
      ]
     },
     "execution_count": 2,
     "metadata": {},
     "output_type": "execute_result"
    }
   ],
   "source": [
    "#数据概貌\n",
    "data.describe()\n",
    "#count行第四列等表明存在缺失值，-999值处理"
   ]
  },
  {
   "cell_type": "code",
   "execution_count": 3,
   "metadata": {},
   "outputs": [
    {
     "name": "stdout",
     "output_type": "stream",
     "text": [
      "['txAudioKBitrate_lead_1', 'cpuTotalUsage_lead_1', 'rxAudioKBitrate_lead_1', 'cpuAppUsage_lead_1', 'txVideoKBitrate_lead_1', 'duration_lead_1', 'sentBitrate_lead_1', 'userCount_lead_1', 'rxVideoKBitrate_lead_1', 'sentFrameRate_lead_1', 'cpu_lead_1', 'lag_lead_1', 'fps_lead_1', 'memory_free_lead_1', 'memory_app_used_lead_1', 'memory_inactive_lead_1', 'txAudioKBitrate_lag_1', 'cpuTotalUsage_lag_1', 'rxAudioKBitrate_lag_1', 'cpuAppUsage_lag_1', 'txVideoKBitrate_lag_1', 'duration_lag_1', 'sentBitrate_lag_1', 'userCount_lag_1', 'rxVideoKBitrate_lag_1', 'sentFrameRate_lag_1', 'cpu_lag_1', 'lag_lag_1', 'fps_lag_1', 'memory_free_lag_1', 'memory_app_used_lag_1', 'memory_inactive_lag_1']\n"
     ]
    }
   ],
   "source": [
    "#查看不重复列索引\n",
    "data_columns=data.columns.values\n",
    "columns_0=[]\n",
    "for i in range(1,1281):\n",
    "    if i%40==1:\n",
    "        columns_0.append(data_columns[i])\n",
    "print(columns_0)"
   ]
  },
  {
   "cell_type": "code",
   "execution_count": 4,
   "metadata": {},
   "outputs": [
    {
     "name": "stdout",
     "output_type": "stream",
     "text": [
      "(5000, 1121)\n"
     ]
    }
   ],
   "source": [
    "#删除开头为s的列\n",
    "for i in range(1,1281):\n",
    "    if data_columns[i][0]=='s':\n",
    "        data.drop(data_columns[i],axis=1, inplace=True)\n",
    "print(data.shape)\n",
    "#共160列（1281-1121=160）"
   ]
  },
  {
   "cell_type": "code",
   "execution_count": 5,
   "metadata": {},
   "outputs": [
    {
     "name": "stdout",
     "output_type": "stream",
     "text": [
      "(4896, 1121)\n"
     ]
    }
   ],
   "source": [
    "#删除缺失值和-999值\n",
    "data=data.sort_values(by=\"type\").reset_index(drop = True)\n",
    "df=data.copy()  \n",
    "a_col=df.columns.values\n",
    "for i in range(1,1121):\n",
    "    nna=len(df[df[a_col[i]].isin([-999])])\n",
    "    if nna>0:\n",
    "        df=df[~df[a_col[i]].isin([-999])]\n",
    "df.dropna(axis=0, how='any',inplace=False)\n",
    "df=df.reset_index(drop = True)\n",
    "print(df.shape)\n",
    "#删除占比104/5000==2.08%"
   ]
  },
  {
   "cell_type": "code",
   "execution_count": 6,
   "metadata": {},
   "outputs": [],
   "source": [
    "#变换'type'类型为'class'，type=1认为0,type=2认为1,二分类\n",
    "df['class']=0\n",
    "df.loc[df['type'] == 1,'class'] = 0\n",
    "df.loc[df['type'] == 2,'class'] = 1"
   ]
  },
  {
   "cell_type": "code",
   "execution_count": 7,
   "metadata": {},
   "outputs": [
    {
     "data": {
      "image/png": "[encoded data removed]",
      "text/plain": [
       "<Figure size 432x288 with 1 Axes>"
      ]
     },
     "metadata": {
      "needs_background": "light"
     },
     "output_type": "display_data"
    }
   ],
   "source": [
    "#将数据分成2类：0（正常数据），1（异常数据），看分布\n",
    "type = pd.value_counts(df['class'], sort=True).sort_index()# 查看该列有多少种不同的属性值\n",
    "type.plot(kind = 'bar')\n",
    "# 作图\n",
    "plt.title('type histogram')# 标题\n",
    "plt.xlabel('type')# x轴添加文字\n",
    "plt.ylabel('Frequency')# y轴添加文字\n",
    "plt.show()"
   ]
  },
  {
   "cell_type": "code",
   "execution_count": 8,
   "metadata": {},
   "outputs": [
    {
     "name": "stderr",
     "output_type": "stream",
     "text": [
      "d:\\al\\python\\lib\\site-packages\\ipykernel_launcher.py:9: MatplotlibDeprecationWarning: Support for uppercase single-letter colors is deprecated since Matplotlib 3.1 and will be removed in 3.3; please use lowercase instead.\n",
      "  if __name__ == '__main__':\n"
     ]
    },
    {
     "data": {
      "image/png": "[encoded data removed]",
      "text/plain": [
       "<Figure size 432x288 with 2 Axes>"
      ]
     },
     "metadata": {
      "needs_background": "light"
     },
     "output_type": "display_data"
    },
    {
     "data": {
      "image/png": "[encoded data removed]",
      "text/plain": [
       "<Figure size 432x288 with 2 Axes>"
      ]
     },
     "metadata": {
      "needs_background": "light"
     },
     "output_type": "display_data"
    },
    {
     "data": {
      "image/png": "[encoded data removed]",
      "text/plain": [
       "<Figure size 432x288 with 2 Axes>"
      ]
     },
     "metadata": {
      "needs_background": "light"
     },
     "output_type": "display_data"
    },
    {
     "data": {
      "image/png": "[encoded data removed]",
      "text/plain": [
       "<Figure size 432x288 with 2 Axes>"
      ]
     },
     "metadata": {
      "needs_background": "light"
     },
     "output_type": "display_data"
    },
    {
     "data": {
      "image/png": "[encoded data removed]",
      "text/plain": [
       "<Figure size 432x288 with 2 Axes>"
      ]
     },
     "metadata": {
      "needs_background": "light"
     },
     "output_type": "display_data"
    },
    {
     "data": {
      "image/png": "[encoded data removed]",
      "text/plain": [
       "<Figure size 432x288 with 2 Axes>"
      ]
     },
     "metadata": {
      "needs_background": "light"
     },
     "output_type": "display_data"
    },
    {
     "data": {
      "image/png": "[encoded data removed]",
      "text/plain": [
       "<Figure size 432x288 with 2 Axes>"
      ]
     },
     "metadata": {
      "needs_background": "light"
     },
     "output_type": "display_data"
    },
    {
     "data": {
      "image/png": "[encoded data removed]",
      "text/plain": [
       "<Figure size 432x288 with 2 Axes>"
      ]
     },
     "metadata": {
      "needs_background": "light"
     },
     "output_type": "display_data"
    },
    {
     "data": {
      "image/png": "[encoded data removed]",
      "text/plain": [
       "<Figure size 432x288 with 2 Axes>"
      ]
     },
     "metadata": {
      "needs_background": "light"
     },
     "output_type": "display_data"
    },
    {
     "data": {
      "image/png": "[encoded data removed]",
      "text/plain": [
       "<Figure size 432x288 with 2 Axes>"
      ]
     },
     "metadata": {
      "needs_background": "light"
     },
     "output_type": "display_data"
    },
    {
     "data": {
      "image/png": "[encoded data removed]",
      "text/plain": [
       "<Figure size 432x288 with 2 Axes>"
      ]
     },
     "metadata": {
      "needs_background": "light"
     },
     "output_type": "display_data"
    },
    {
     "data": {
      "image/png": "[encoded data removed]",
      "text/plain": [
       "<Figure size 432x288 with 2 Axes>"
      ]
     },
     "metadata": {
      "needs_background": "light"
     },
     "output_type": "display_data"
    },
    {
     "data": {
      "image/png": "[encoded data removed]",
      "text/plain": [
       "<Figure size 432x288 with 2 Axes>"
      ]
     },
     "metadata": {
      "needs_background": "light"
     },
     "output_type": "display_data"
    },
    {
     "data": {
      "image/png": "[encoded data removed]",
      "text/plain": [
       "<Figure size 432x288 with 2 Axes>"
      ]
     },
     "metadata": {
      "needs_background": "light"
     },
     "output_type": "display_data"
    }
   ],
   "source": [
    "#看前后40秒不同类(3)数据趋势\n",
    "for i in range(1,561):\n",
    "    if i%40==1:\n",
    "        plt.subplot(141)\n",
    "        for j in range(0,40):\n",
    "            plt.scatter(df.iloc[:,0], df.iloc[:,i+j], color='b')\n",
    "        plt.subplot(143)\n",
    "        for j in range(0,40):\n",
    "            plt.scatter(df.iloc[:,0], df.iloc[:,560+i+j], color='R')\n",
    "        plt.title('%d %s' %(i,a_col[i]))\n",
    "        plt.show()"
   ]
  },
  {
   "cell_type": "code",
   "execution_count": 9,
   "metadata": {},
   "outputs": [
    {
     "data": {
      "image/png": "[encoded data removed]",
      "text/plain": [
       "<Figure size 432x288 with 2 Axes>"
      ]
     },
     "metadata": {
      "needs_background": "light"
     },
     "output_type": "display_data"
    },
    {
     "data": {
      "image/png": "[encoded data removed]",
      "text/plain": [
       "<Figure size 432x288 with 2 Axes>"
      ]
     },
     "metadata": {
      "needs_background": "light"
     },
     "output_type": "display_data"
    },
    {
     "data": {
      "image/png": "[encoded data removed]",
      "text/plain": [
       "<Figure size 432x288 with 2 Axes>"
      ]
     },
     "metadata": {
      "needs_background": "light"
     },
     "output_type": "display_data"
    },
    {
     "data": {
      "image/png": "[encoded data removed]",
      "text/plain": [
       "<Figure size 432x288 with 2 Axes>"
      ]
     },
     "metadata": {
      "needs_background": "light"
     },
     "output_type": "display_data"
    },
    {
     "data": {
      "image/png": "[encoded data removed]",
      "text/plain": [
       "<Figure size 432x288 with 2 Axes>"
      ]
     },
     "metadata": {
      "needs_background": "light"
     },
     "output_type": "display_data"
    },
    {
     "data": {
      "image/png": "[encoded data removed]",
      "text/plain": [
       "<Figure size 432x288 with 2 Axes>"
      ]
     },
     "metadata": {
      "needs_background": "light"
     },
     "output_type": "display_data"
    },
    {
     "data": {
      "image/png": "[encoded data removed]",
      "text/plain": [
       "<Figure size 432x288 with 2 Axes>"
      ]
     },
     "metadata": {
      "needs_background": "light"
     },
     "output_type": "display_data"
    },
    {
     "data": {
      "image/png": "[encoded data removed]",
      "text/plain": [
       "<Figure size 432x288 with 2 Axes>"
      ]
     },
     "metadata": {
      "needs_background": "light"
     },
     "output_type": "display_data"
    },
    {
     "data": {
      "image/png": "[encoded data removed]",
      "text/plain": [
       "<Figure size 432x288 with 2 Axes>"
      ]
     },
     "metadata": {
      "needs_background": "light"
     },
     "output_type": "display_data"
    },
    {
     "data": {
      "image/png": "[encoded data removed]",
      "text/plain": [
       "<Figure size 432x288 with 2 Axes>"
      ]
     },
     "metadata": {
      "needs_background": "light"
     },
     "output_type": "display_data"
    },
    {
     "data": {
      "image/png": "[encoded data removed]",
      "text/plain": [
       "<Figure size 432x288 with 2 Axes>"
      ]
     },
     "metadata": {
      "needs_background": "light"
     },
     "output_type": "display_data"
    },
    {
     "data": {
      "image/png": "[encoded data removed]",
      "text/plain": [
       "<Figure size 432x288 with 2 Axes>"
      ]
     },
     "metadata": {
      "needs_background": "light"
     },
     "output_type": "display_data"
    },
    {
     "data": {
      "image/png": "[encoded data removed]",
      "text/plain": [
       "<Figure size 432x288 with 2 Axes>"
      ]
     },
     "metadata": {
      "needs_background": "light"
     },
     "output_type": "display_data"
    },
    {
     "data": {
      "image/png": "[encoded data removed]",
      "text/plain": [
       "<Figure size 432x288 with 2 Axes>"
      ]
     },
     "metadata": {
      "needs_background": "light"
     },
     "output_type": "display_data"
    }
   ],
   "source": [
    "#看前后40秒不同类(2)数据趋势\n",
    "for i in range(1,561):\n",
    "    if i%40==1:\n",
    "        plt.subplot(141)\n",
    "        for j in range(0,40):\n",
    "            plt.scatter(df.iloc[:,-1], df.iloc[:,i+j], color='b')\n",
    "        plt.subplot(143)\n",
    "        for j in range(0,40):\n",
    "            plt.scatter(df.iloc[:,-1], df.iloc[:,560+i+j], color='R')\n",
    "        plt.title('%d %s' %(i,a_col[i]))\n",
    "        plt.show()"
   ]
  },
  {
   "cell_type": "code",
   "execution_count": 10,
   "metadata": {},
   "outputs": [
    {
     "name": "stdout",
     "output_type": "stream",
     "text": [
      "(4896, 642)\n"
     ]
    }
   ],
   "source": [
    "#依据上面图的变化趋势，剔除变化不明显的变量。\n",
    "df1=df.copy()\n",
    "for i in range(1,1121):\n",
    "    if a_col[i][0:2]=='cp'or a_col[i][0:2]=='us'or a_col[i][0:2]=='tx':\n",
    "        df1.drop(a_col[i],axis=1, inplace=True)\n",
    "df1=df1.reset_index(drop = True)\n",
    "print(df1.shape)"
   ]
  },
  {
   "cell_type": "code",
   "execution_count": 11,
   "metadata": {},
   "outputs": [
    {
     "name": "stderr",
     "output_type": "stream",
     "text": [
      "d:\\al\\python\\lib\\site-packages\\ipykernel_launcher.py:4: SettingWithCopyWarning: \n",
      "A value is trying to be set on a copy of a slice from a DataFrame.\n",
      "Try using .loc[row_indexer,col_indexer] = value instead\n",
      "\n",
      "See the caveats in the documentation: http://pandas.pydata.org/pandas-docs/stable/indexing.html#indexing-view-versus-copy\n",
      "  after removing the cwd from sys.path.\n",
      "C:\\Users\\DELL\\AppData\\Roaming\\Python\\Python37\\site-packages\\numpy\\lib\\function_base.py:3826: RuntimeWarning: Invalid value encountered in percentile\n",
      "  interpolation=interpolation)\n",
      "d:\\al\\python\\lib\\site-packages\\ipykernel_launcher.py:24: SettingWithCopyWarning: \n",
      "A value is trying to be set on a copy of a slice from a DataFrame.\n",
      "Try using .loc[row_indexer,col_indexer] = value instead\n",
      "\n",
      "See the caveats in the documentation: http://pandas.pydata.org/pandas-docs/stable/indexing.html#indexing-view-versus-copy\n",
      "d:\\al\\python\\lib\\site-packages\\ipykernel_launcher.py:25: SettingWithCopyWarning: \n",
      "A value is trying to be set on a copy of a slice from a DataFrame.\n",
      "Try using .loc[row_indexer,col_indexer] = value instead\n",
      "\n",
      "See the caveats in the documentation: http://pandas.pydata.org/pandas-docs/stable/indexing.html#indexing-view-versus-copy\n",
      "d:\\al\\python\\lib\\site-packages\\ipykernel_launcher.py:26: SettingWithCopyWarning: \n",
      "A value is trying to be set on a copy of a slice from a DataFrame.\n",
      "Try using .loc[row_indexer,col_indexer] = value instead\n",
      "\n",
      "See the caveats in the documentation: http://pandas.pydata.org/pandas-docs/stable/indexing.html#indexing-view-versus-copy\n",
      "d:\\al\\python\\lib\\site-packages\\ipykernel_launcher.py:27: SettingWithCopyWarning: \n",
      "A value is trying to be set on a copy of a slice from a DataFrame.\n",
      "Try using .loc[row_indexer,col_indexer] = value instead\n",
      "\n",
      "See the caveats in the documentation: http://pandas.pydata.org/pandas-docs/stable/indexing.html#indexing-view-versus-copy\n"
     ]
    }
   ],
   "source": [
    "#构建特征\n",
    "import numpy as np\n",
    "df2=df1[['type']]\n",
    "df2['class']=df1['class']\n",
    "df1_columns=df1.columns.values\n",
    "for i in range(1,641):\n",
    "    if i%40==1:\n",
    "        i1=df1_columns[i][:-1]+'975'\n",
    "        i2=df1_columns[i][:-1]+'525'\n",
    "        i3=df1_columns[i][:-1]+'avg'\n",
    "        i4=df1_columns[i][:-1]+'std'\n",
    "        temp_975i=[]\n",
    "        temp_525i=[]\n",
    "        temp_avgi=[]\n",
    "        temp_stdi=[]\n",
    "        for j in range(0,len(df1)):\n",
    "            temp_array=np.array(df1.iloc[j,i:i+40])\n",
    "            j_975=np.percentile(temp_array,90)-np.percentile(temp_array,75)\n",
    "            temp_975i.append(j_975)\n",
    "            j_525=np.percentile(temp_array,25)-np.percentile(temp_array,5)\n",
    "            temp_525i.append(j_525)\n",
    "            temp_avgi.append(np.mean(temp_array))\n",
    "            temp_stdi.append(np.std(temp_array))       \n",
    "        df2[i1]=temp_975i\n",
    "        df2[i2]=temp_525i\n",
    "        df2[i3]=temp_avgi\n",
    "        df2[i4]=temp_stdi"
   ]
  },
  {
   "cell_type": "code",
   "execution_count": 12,
   "metadata": {},
   "outputs": [
    {
     "name": "stderr",
     "output_type": "stream",
     "text": [
      "d:\\al\\python\\lib\\site-packages\\ipykernel_launcher.py:8: SettingWithCopyWarning: \n",
      "A value is trying to be set on a copy of a slice from a DataFrame\n",
      "\n",
      "See the caveats in the documentation: http://pandas.pydata.org/pandas-docs/stable/indexing.html#indexing-view-versus-copy\n",
      "  \n"
     ]
    },
    {
     "name": "stdout",
     "output_type": "stream",
     "text": [
      "Parameter with best score:\n",
      "rf_grid.best_params_\n",
      "cross validation score: 0.8904203323558162\n"
     ]
    }
   ],
   "source": [
    "# Split Training Set from Testing Set (70/30)\n",
    "from sklearn.model_selection import train_test_split\n",
    "from sklearn.preprocessing import StandardScaler\n",
    "from sklearn.model_selection import ShuffleSplit\n",
    "from sklearn.ensemble import RandomForestClassifier\n",
    "from sklearn.model_selection import GridSearchCV\n",
    "\n",
    "df2.dropna(axis=0, how='any',inplace=True)\n",
    "x=df2.iloc[:,2:]\n",
    "y=df2.iloc[:,1]\n",
    "\n",
    "x_train, x_test, y_train, y_test = train_test_split(x, y, test_size=0.3)\n",
    "#随机取数\n",
    "cv = ShuffleSplit(n_splits=20, test_size=0.3)\n",
    "# 建立模型\n",
    "rf = RandomForestClassifier()\n",
    "#设置参数变化\n",
    "rf_param = {'n_estimators': range(1,11)}\n",
    "#网格搜索寻找最优参数\n",
    "rf_grid = GridSearchCV(rf, rf_param, cv=cv)\n",
    "rf_grid.fit(x_train, y_train)\n",
    "print('Parameter with best score:')\n",
    "print('rf_grid.best_params_')\n",
    "print('cross validation score:', rf_grid.best_score_)"
   ]
  },
  {
   "cell_type": "code",
   "execution_count": 13,
   "metadata": {},
   "outputs": [
    {
     "name": "stdout",
     "output_type": "stream",
     "text": [
      "Test score: 0.8885088919288646\n"
     ]
    }
   ],
   "source": [
    "best_rf = rf_grid.best_estimator_\n",
    "print('Test score:', best_rf.score(x_test, y_test))"
   ]
  },
  {
   "cell_type": "code",
   "execution_count": null,
   "metadata": {},
   "outputs": [],
   "source": []
  }
 ],
 "metadata": {
  "kernelspec": {
   "display_name": "Python 3",
   "language": "python",
   "name": "python3"
  },
  "language_info": {
   "codemirror_mode": {
    "name": "ipython",
    "version": 3
   },
   "file_extension": ".py",
   "mimetype": "text/x-python",
   "name": "python",
   "nbconvert_exporter": "python",
   "pygments_lexer": "ipython3",
   "version": "3.7.0"
  }
 },
 "nbformat": 4,
 "nbformat_minor": 2
}
